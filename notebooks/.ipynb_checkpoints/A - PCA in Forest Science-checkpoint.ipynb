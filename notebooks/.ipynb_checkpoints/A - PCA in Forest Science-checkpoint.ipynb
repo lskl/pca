{
 "cells": [
  {
   "cell_type": "markdown",
   "metadata": {},
   "source": [
    "# A - PCA in Forest Science"
   ]
  },
  {
   "cell_type": "markdown",
   "metadata": {},
   "source": [
    "This series of notebooks address the topic of principal component analysis, short PCA, from the point of view of forest science. They were originally developed for a short seminar at the Forest Information Technology program of the Hochschule for Nachhaltige Entwicklung Eberswalde (HNEE - Eberswalde University for Sustainable Development)."
   ]
  },
  {
   "cell_type": "markdown",
   "metadata": {},
   "source": [
    "## Contents and general organization"
   ]
  },
  {
   "cell_type": "markdown",
   "metadata": {},
   "source": [
    "The 4 notebooks are designed to show the implementation of PCA and start from the theory and math behind the method, building up to an application using metereological data from the forest botanical garden of the University."
   ]
  },
  {
   "cell_type": "markdown",
   "metadata": {},
   "source": [
    "Notebooks:\n",
    "* <font color=darkgreen>**A - PCA in Forest Science.**</font> This notebook, giving an overview of the seminar and its motivations as well as the requirements to run the code examples.\n",
    "* <font color=darkgreen>**B - PCA Math, Change of Coordinates.**</font> A simple example featuring a 3D data table, to show the math behind the PCA method (linear algebra, covariance matrix) and the concept of projection on another coordinate system (3D→2D).\n",
    "* <font color=darkgreen>**C - *Forstbotanischer Garten* 3D.**</font> An example similar to that in notebook B, with real meteorological data from the forest botanical garden in Eberswalde. Key points are the correlations between variables and the importance of scaling them prior to PCA.\n",
    "* <font color=darkgreen>**D - *Forstbotanischer Garten* Stations.**</font> A more complex example including 6 meteorological stations located in the forest botanical garden in Eberswalde, each giving measurements of 7 variables. It shows the use of **scree plots** and **biplots** to show feature importance and clustering."
   ]
  },
  {
   "cell_type": "markdown",
   "metadata": {},
   "source": [
    "## Motivation, short story"
   ]
  },
  {
   "cell_type": "markdown",
   "metadata": {},
   "source": [
    "Principal Component Analysis, PCA, is used to transform a set of data, i.e. a table, into another one. The information in the quantities is mixed together and given in another form. The number variables is the same, meaning that the new data table has the same dimensions than the first one. The good point is that the new table has the data ordered according to their importance in explaining (the variance of) the data in the original table.\n",
    "\n",
    "In other words: We transform a table into another of the same size, and the we can strip a part of the second one, keeping a reduced version of the original dataset. Even better: the transformation is reversible."
   ]
  },
  {
   "cell_type": "markdown",
   "metadata": {},
   "source": [
    "---"
   ]
  },
  {
   "cell_type": "markdown",
   "metadata": {},
   "source": [
    "Forest science, and in general all disciplines relying on complex processes and using big amounts of data, can profit from PCA because it can help to organize big data tables and reduce their dimensions.\n",
    "\n",
    "Dimensionality reduction and PCA in particular can be used:\n",
    "\n",
    "* To filter noisy signals (also images!)\n",
    "* To compress tables (and images)\n",
    "* To look for similarities and differences (clustering)\n",
    "* To build simpler models (i.e. regression models) using less inputs"
   ]
  },
  {
   "cell_type": "markdown",
   "metadata": {},
   "source": [
    "The underlying idea is that we have **correlated variables**, and that this correlation can be interpreted as **redundancy**. This is common in biology, ecology, agronomy and forest science. Many things change together, at least partially, for example:\n",
    "\n",
    "* Biomass production and solar radiation during the year\n",
    "* Population of a plague and air temperature\n",
    "* Fungal infections and humidity\n",
    "* Another plague and rainfall\n",
    "* Presence of two species\n",
    "* Prevalence of a disease and a tree species\n",
    "* More ideas?"
   ]
  },
  {
   "cell_type": "markdown",
   "metadata": {},
   "source": [
    "---"
   ]
  },
  {
   "cell_type": "markdown",
   "metadata": {},
   "source": [
    "A super simple example:\n",
    "\n",
    "We measure the temperature in 2 points close to each other in the same room, 5 times. We take the average temperature and thus reduce the dimensions of the measurements matrix from $[2 \\times 5]$ to $[1 \\times 5]$. \n",
    "\n",
    "They are correlated after all!"
   ]
  },
  {
   "cell_type": "markdown",
   "metadata": {},
   "source": [
    "## What you bring to profit the most of this course"
   ]
  },
  {
   "cell_type": "markdown",
   "metadata": {},
   "source": [
    "#### Yourself"
   ]
  },
  {
   "cell_type": "markdown",
   "metadata": {},
   "source": [
    "* Understanding of linear algebra: matrix product, transpose of a matrix, eigenvalues, eigenvectors.\n",
    "* Statistics: Covariance, correlation\n",
    "* Graph literacy,  coordinate systems\n",
    "* Meteorology: Microclimate\n",
    "    \n",
    "* Programming in general, *python* in particular"
   ]
  },
  {
   "cell_type": "markdown",
   "metadata": {},
   "source": [
    "#### Your computer"
   ]
  },
  {
   "cell_type": "markdown",
   "metadata": {},
   "source": [
    "* python 3.x, numpy, pandas, matplotlib, scikit-learn"
   ]
  },
  {
   "cell_type": "markdown",
   "metadata": {},
   "source": [
    "## Course materials"
   ]
  },
  {
   "cell_type": "markdown",
   "metadata": {},
   "source": [
    "These notebooks, as well as the dataset used in the examples, are uploaded to a public repository and can be downloaded any time.\n",
    "\n",
    "The repository is located at:\n",
    "    \n",
    "https://github.com/mirandal-gh/pca"
   ]
  },
  {
   "cell_type": "markdown",
   "metadata": {},
   "source": [
    "## Some more resources"
   ]
  },
  {
   "cell_type": "markdown",
   "metadata": {},
   "source": [
    "#### Websites, blogs"
   ]
  },
  {
   "cell_type": "markdown",
   "metadata": {},
   "source": [
    "https://stats.stackexchange.com/questions/2691/making-sense-of-principal-component-analysis-eigenvectors-eigenvalues\n",
    "\n",
    "(Particularly the first answer gives a very nice explanation of the PCA method)\n",
    "\n",
    "---\n",
    "   \n",
    "https://towardsdatascience.com/principal-components-of-pca-bea010cc1d33\n",
    "\n",
    "(Neat explanation of the math; projections 3D→2D)\n",
    "\n",
    "---\n",
    "\n",
    "https://medium.com/apprentice-journal/pca-application-in-machine-learning-4827c07a61db\n",
    "\n",
    "(Application on input reduction for model building)"
   ]
  },
  {
   "cell_type": "markdown",
   "metadata": {},
   "source": [
    "#### Documents, books"
   ]
  },
  {
   "cell_type": "markdown",
   "metadata": {},
   "source": [
    "http://www.cs.otago.ac.nz/cosc453/student_tutorials/principal_components.pdf\n",
    "\n",
    "(A tutorial on Principal Component Analysis by Lindsay I Smith)\n",
    "\n",
    "https://www.elsevier.com/books/statistical-methods-in-the-atmospheric-sciences/wilks/978-0-12-385022-5\n",
    "\n",
    "(Statistical Methods in the Atmospheric Sciences, )"
   ]
  },
  {
   "cell_type": "markdown",
   "metadata": {},
   "source": [
    "## Contact"
   ]
  },
  {
   "cell_type": "markdown",
   "metadata": {},
   "source": [
    "Luis Miranda\n",
    "\n",
    "Doctor in Agricultural Sciences by the Humboldt-Universität zu Berlin\n",
    "\n",
    "Researcher in Data science, Artificial Intelligence and Biosystems Engineering for Agriculture and Horticulture\n",
    "\n",
    "luis.miranda@posteo.net"
   ]
  }
 ],
 "metadata": {
  "kernelspec": {
   "display_name": "Python 3",
   "language": "python",
   "name": "python3"
  },
  "language_info": {
   "codemirror_mode": {
    "name": "ipython",
    "version": 3
   },
   "file_extension": ".py",
   "mimetype": "text/x-python",
   "name": "python",
   "nbconvert_exporter": "python",
   "pygments_lexer": "ipython3",
   "version": "3.7.4+"
  },
  "toc": {
   "base_numbering": 1,
   "nav_menu": {},
   "number_sections": false,
   "sideBar": true,
   "skip_h1_title": false,
   "title_cell": "Table of Contents",
   "title_sidebar": "Contents",
   "toc_cell": false,
   "toc_position": {
    "height": "calc(100% - 180px)",
    "left": "10px",
    "top": "150px",
    "width": "168.2px"
   },
   "toc_section_display": true,
   "toc_window_display": true
  }
 },
 "nbformat": 4,
 "nbformat_minor": 2
}
